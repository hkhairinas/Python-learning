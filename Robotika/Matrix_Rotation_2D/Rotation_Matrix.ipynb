{
 "cells": [
  {
   "cell_type": "markdown",
   "metadata": {},
   "source": [
    "## Rotation Matrix 2D\n",
    "---\n",
    "### Rumus\n",
    "$$\n",
    "\\begin{bmatrix} \n",
    "{x}' \\\\ {y}' \n",
    "\\end{bmatrix}\n",
    "=\n",
    "\\begin{bmatrix} \n",
    "\\cos \\theta & -\\sin \\theta \n",
    "\\\\ \\sin\\theta & \\cos\\theta \n",
    "\\end{bmatrix} \n",
    "\\begin{bmatrix} x \\\\ y \\end{bmatrix}\n",
    "$$"
   ]
  },
  {
   "cell_type": "markdown",
   "metadata": {},
   "source": [
    "#### Contoh 1\n",
    "Diketahui:\n",
    "\n",
    "$\n",
    "P(x,y) = (1,1)\n",
    "$\n",
    "\n",
    "$\n",
    "\\theta = 30^\\circ\n",
    "$\n",
    "\n",
    "Posisi Akhir\n",
    "$\n",
    "P'(x',y') = (?,?)\n",
    "$"
   ]
  },
  {
   "cell_type": "code",
   "execution_count": 9,
   "metadata": {},
   "outputs": [
    {
     "name": "stdout",
     "output_type": "stream",
     "text": [
      "P = \n",
      " [[1]\n",
      " [1]]\n",
      "Theta dalam radian =  0.5235987755982988\n",
      "Matriks rotasi: \n",
      " [[ 0.8660254 -0.5      ]\n",
      " [ 0.5        0.8660254]]\n",
      "P' =\n",
      " [[0.3660254]\n",
      " [1.3660254]]\n",
      "x' =  0.36602540378443876\n",
      "y' =  1.3660254037844386\n"
     ]
    }
   ],
   "source": [
    "import numpy as np\n",
    "theta = 30.0\n",
    "x = 1\n",
    "y = 1\n",
    "P = np.array([[x],\n",
    "             [y]]) #Posisi Awal P\n",
    "print(\"P = \\n\" ,P)\n",
    "\n",
    "theta = theta / 180 * np.pi\n",
    "print(\"Theta dalam radian = \" ,theta)\n",
    "\n",
    "rot = np.array([[np.cos(theta), -np.sin(theta)],\n",
    "              [np.sin(theta), np.cos(theta)]])\n",
    "print(\"Matriks rotasi: \\n\" ,rot)\n",
    "\n",
    "P2 = rot.dot(P)\n",
    "x2 = P2[0,0]\n",
    "y2 = P2[1,0]\n",
    "print(\"P' =\\n\" ,P2)\n",
    "print(\"x' = \" ,x2)\n",
    "print(\"y' = \" ,y2)"
   ]
  },
  {
   "cell_type": "markdown",
   "metadata": {},
   "source": [
    "#### Contoh 2\n",
    "Diketahui:\n",
    "\n",
    "Posisi akhir\n",
    "$\n",
    "P'(x',y') = (3,4)\n",
    "$\n",
    "\n",
    "$\n",
    "\\theta = -15^\\circ\n",
    "$\n",
    "\n",
    "Posisi Awal\n",
    "$\n",
    "P(x,y) = (?,?)\n",
    "$"
   ]
  },
  {
   "cell_type": "code",
   "execution_count": 1,
   "metadata": {},
   "outputs": [
    {
     "name": "stdout",
     "output_type": "stream",
     "text": [
      "P' = \n",
      " [[3]\n",
      " [4]]\n",
      "Theta dalam radian =  -0.2617993877991494\n",
      "Matriks rotasi: \n",
      " [[ 0.96592583  0.25881905]\n",
      " [-0.25881905  0.96592583]]\n",
      "Invers Matriks rotasi: \n",
      " [[ 0.96592583 -0.25881905]\n",
      " [ 0.25881905  0.96592583]]\n",
      "P = \n",
      " [[1.8625013 ]\n",
      " [4.64016044]]\n",
      "x =  1.8625012984571216\n",
      "y =  4.640160440463836\n"
     ]
    }
   ],
   "source": [
    "import numpy as np\n",
    "theta = -15.0\n",
    "x2 = 3\n",
    "y2 = 4\n",
    "P2 = np.array([[x2],\n",
    "              [y2]]) #Posisi Akhir P'\n",
    "print(\"P' = \\n\" ,P2)\n",
    "\n",
    "theta = theta / 180 * np.pi\n",
    "print(\"Theta dalam radian = \" ,theta)\n",
    "\n",
    "rot = np.array([[np.cos(theta), -np.sin(theta)],\n",
    "               [np.sin(theta), np.cos(theta)]])\n",
    "print(\"Matriks rotasi: \\n\" ,rot)\n",
    "rot = np.linalg.inv(rot)\n",
    "print(\"Invers Matriks rotasi: \\n\" ,rot)\n",
    "\n",
    "P = rot.dot(P2)\n",
    "x = P[0,0]\n",
    "y = P[1,0]\n",
    "print(\"P = \\n\" ,P)\n",
    "print(\"x = \" ,x)\n",
    "print(\"y = \" ,y)"
   ]
  },
  {
   "cell_type": "code",
   "execution_count": null,
   "metadata": {},
   "outputs": [],
   "source": []
  }
 ],
 "metadata": {
  "kernelspec": {
   "display_name": "Python 3",
   "language": "python",
   "name": "python3"
  },
  "language_info": {
   "codemirror_mode": {
    "name": "ipython",
    "version": 3
   },
   "file_extension": ".py",
   "mimetype": "text/x-python",
   "name": "python",
   "nbconvert_exporter": "python",
   "pygments_lexer": "ipython3",
   "version": "3.7.3"
  }
 },
 "nbformat": 4,
 "nbformat_minor": 2
}
