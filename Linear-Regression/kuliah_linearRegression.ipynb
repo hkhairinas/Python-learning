{
 "cells": [
  {
   "cell_type": "code",
   "execution_count": 1,
   "metadata": {
    "ExecuteTime": {
     "end_time": "2020-03-06T11:43:15.323169Z",
     "start_time": "2020-03-06T11:43:14.330657Z"
    }
   },
   "outputs": [],
   "source": [
    "import pandas as pd\n",
    "import numpy as np\n",
    "from matplotlib import pyplot\n",
    "import matplotlib.pyplot as plt"
   ]
  },
  {
   "cell_type": "code",
   "execution_count": 2,
   "metadata": {
    "ExecuteTime": {
     "end_time": "2020-03-06T11:43:15.332137Z",
     "start_time": "2020-03-06T11:43:15.325140Z"
    }
   },
   "outputs": [],
   "source": [
    "data=pd.read_csv(\"C:\\Dataset\\kuliah_KKPM\\data.txt\", sep=',',header=None)\n",
    "X=data[0]\n",
    "Y=data[1]\n",
    "m=Y.size"
   ]
  },
  {
   "cell_type": "code",
   "execution_count": 3,
   "metadata": {
    "ExecuteTime": {
     "end_time": "2020-03-06T11:43:15.343142Z",
     "start_time": "2020-03-06T11:43:15.335119Z"
    }
   },
   "outputs": [],
   "source": [
    "def plotData(x,y):\n",
    "    fig = pyplot.figure()\n",
    "    pyplot.plot(x, y, 'ro', ms=10, mec='k')\n",
    "    pyplot.ylabel('Y')\n",
    "    pyplot.xlabel('X')\n",
    "    pyplot.show()"
   ]
  },
  {
   "cell_type": "code",
   "execution_count": 4,
   "metadata": {
    "ExecuteTime": {
     "end_time": "2020-03-06T11:43:15.489046Z",
     "start_time": "2020-03-06T11:43:15.345124Z"
    }
   },
   "outputs": [
    {
     "data": {
      "image/png": "[encoded data removed]",
      "text/plain": [
       "<Figure size 432x288 with 1 Axes>"
      ]
     },
     "metadata": {
      "needs_background": "light"
     },
     "output_type": "display_data"
    }
   ],
   "source": [
    "plotData(X,Y)"
   ]
  },
  {
   "cell_type": "code",
   "execution_count": 5,
   "metadata": {
    "ExecuteTime": {
     "end_time": "2020-03-06T11:43:15.495027Z",
     "start_time": "2020-03-06T11:43:15.490032Z"
    }
   },
   "outputs": [],
   "source": [
    "# ubah dimensi X jadi (97,2)\n",
    "X = np.stack([np.ones(m), X], axis=1)"
   ]
  },
  {
   "cell_type": "code",
   "execution_count": 6,
   "metadata": {
    "ExecuteTime": {
     "end_time": "2020-03-06T11:43:15.506031Z",
     "start_time": "2020-03-06T11:43:15.496027Z"
    }
   },
   "outputs": [],
   "source": [
    "def costFunction(x, y, theta):\n",
    "    m = Y.size\n",
    "    J = 0\n",
    "    J = (1/(2 * m)) * np.sum(np.square(np.dot(X, theta) - y)) # compute cost using the a\n",
    "    return J"
   ]
  },
  {
   "cell_type": "code",
   "execution_count": 7,
   "metadata": {
    "ExecuteTime": {
     "end_time": "2020-03-06T11:43:15.524020Z",
     "start_time": "2020-03-06T11:43:15.508020Z"
    }
   },
   "outputs": [
    {
     "name": "stdout",
     "output_type": "stream",
     "text": [
      "With theta = [0, 0] \n",
      "Cost computed = 32.07\n"
     ]
    }
   ],
   "source": [
    "# trying with a particular values of theta\n",
    "J = costFunction(X, Y, theta=np.array([0, 0]))\n",
    "print('With theta = [0, 0] \\nCost computed = %.2f' % J)"
   ]
  },
  {
   "cell_type": "code",
   "execution_count": 8,
   "metadata": {
    "ExecuteTime": {
     "end_time": "2020-03-06T11:43:15.533013Z",
     "start_time": "2020-03-06T11:43:15.527009Z"
    }
   },
   "outputs": [
    {
     "name": "stdout",
     "output_type": "stream",
     "text": [
      "With theta = [-2, 4] \n",
      "Cost computed = 370.39\n"
     ]
    }
   ],
   "source": [
    " J = costFunction(X, Y, theta=np.array([-2, 4]))\n",
    "print('With theta = [-2, 4] \\nCost computed = %.2f' % J)"
   ]
  },
  {
   "cell_type": "code",
   "execution_count": 9,
   "metadata": {
    "ExecuteTime": {
     "end_time": "2020-03-06T11:43:15.546001Z",
     "start_time": "2020-03-06T11:43:15.535007Z"
    }
   },
   "outputs": [],
   "source": [
    "def gradientDescent(x, y, theta, alpha, num_iters):\n",
    "    J_history=[] # history of loss fuction data \n",
    "    for i in range(0,num_iters):\n",
    "        J=costFunction(x,y,theta)\n",
    "        J_history.append(J)\n",
    "        for j in range(0,2): # update nilai theta secara simultan \n",
    "            theta[j]=theta[j]-alpha*(1/m)*np.sum((np.dot(x,theta)-y)*X[:,j])        \n",
    "    return theta,J_history"
   ]
  },
  {
   "cell_type": "code",
   "execution_count": 10,
   "metadata": {
    "ExecuteTime": {
     "end_time": "2020-03-06T11:43:16.584417Z",
     "start_time": "2020-03-06T11:43:15.549019Z"
    }
   },
   "outputs": [
    {
     "name": "stdout",
     "output_type": "stream",
     "text": [
      "Theta found by gradient descent: -0.5765, 0.8596\n"
     ]
    }
   ],
   "source": [
    "theta = np.zeros(2) #initialize the values of theta\n",
    "iterations = 1000 # iterations to find the optimal theta\n",
    "alpha = 0.001 # learning rate\n",
    "theta, J_history = gradientDescent(X ,Y, theta, alpha, iterations)\n",
    "print('Theta found by gradient descent: {:.4f}, {:.4f}'.format(*theta))"
   ]
  },
  {
   "cell_type": "code",
   "execution_count": 14,
   "metadata": {
    "ExecuteTime": {
     "end_time": "2020-03-06T11:45:29.921235Z",
     "start_time": "2020-03-06T11:45:29.757329Z"
    }
   },
   "outputs": [
    {
     "data": {
      "text/plain": [
       "Text(0.5, 0, 'Population')"
      ]
     },
     "execution_count": 14,
     "metadata": {},
     "output_type": "execute_result"
    },
    {
     "data": {
      "image/png": "[encoded data removed]",
      "text/plain": [
       "<Figure size 720x432 with 1 Axes>"
      ]
     },
     "metadata": {
      "needs_background": "light"
     },
     "output_type": "display_data"
    }
   ],
   "source": [
    "# plot garis linear regression\n",
    "\n",
    "plt.figure(figsize=(10,6))\n",
    "y_prediction=theta[0]+theta[1]*X[:,1]\n",
    "plt.plot(X[:,1],y_prediction,'-b',markersize=10)\n",
    "plt.plot(X[:,1],Y,'ro',markersize=10)\n",
    "plt.ylabel('Profit')\n",
    "plt.xlabel('Population')"
   ]
  }
 ],
 "metadata": {
  "kernelspec": {
   "display_name": "Python 3",
   "language": "python",
   "name": "python3"
  },
  "language_info": {
   "codemirror_mode": {
    "name": "ipython",
    "version": 3
   },
   "file_extension": ".py",
   "mimetype": "text/x-python",
   "name": "python",
   "nbconvert_exporter": "python",
   "pygments_lexer": "ipython3",
   "version": "3.7.4"
  },
  "toc": {
   "base_numbering": 1,
   "nav_menu": {},
   "number_sections": true,
   "sideBar": true,
   "skip_h1_title": false,
   "title_cell": "Table of Contents",
   "title_sidebar": "Contents",
   "toc_cell": false,
   "toc_position": {},
   "toc_section_display": true,
   "toc_window_display": false
  },
  "varInspector": {
   "cols": {
    "lenName": 16,
    "lenType": 16,
    "lenVar": 40
   },
   "kernels_config": {
    "python": {
     "delete_cmd_postfix": "",
     "delete_cmd_prefix": "del ",
     "library": "var_list.py",
     "varRefreshCmd": "print(var_dic_list())"
    },
    "r": {
     "delete_cmd_postfix": ") ",
     "delete_cmd_prefix": "rm(",
     "library": "var_list.r",
     "varRefreshCmd": "cat(var_dic_list()) "
    }
   },
   "types_to_exclude": [
    "module",
    "function",
    "builtin_function_or_method",
    "instance",
    "_Feature"
   ],
   "window_display": false
  }
 },
 "nbformat": 4,
 "nbformat_minor": 2
}
